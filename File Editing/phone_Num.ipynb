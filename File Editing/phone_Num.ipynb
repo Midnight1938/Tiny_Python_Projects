{
 "cells": [
  {
   "cell_type": "code",
   "execution_count": 13,
   "source": [
    "def file_Writer(name, num):\n",
    "    file = open('GFG.txt', 'a')\n",
    "    data = f\"\\n{name}:\\t{num}\"\n",
    "    file.write(data)\n",
    "    file.close()"
   ],
   "outputs": [],
   "metadata": {}
  },
  {
   "cell_type": "code",
   "execution_count": 14,
   "source": [
    "N_Rec = int(input(\"Enter the amount of records: \"))\n",
    "i = 1\n",
    "while i <= N_Rec:\n",
    "    Name = str(input(\"Enter Name: \"))\n",
    "    try:\n",
    "       Num = int(input(\"Enter Number: \"))\n",
    "       file_Writer(Name, Num)\n",
    "       i+=i\n",
    "       print(\"\\nWritten\\n\")\n",
    "    except ValueError:\n",
    "        print(\"Enter numbers only\")"
   ],
   "outputs": [
    {
     "output_type": "stream",
     "name": "stdout",
     "text": [
      "Enter numbers only\n",
      "\n",
      "Written\n",
      "\n"
     ]
    }
   ],
   "metadata": {}
  }
 ],
 "metadata": {
  "orig_nbformat": 4,
  "language_info": {
   "name": "python",
   "version": "3.9.6",
   "mimetype": "text/x-python",
   "codemirror_mode": {
    "name": "ipython",
    "version": 3
   },
   "pygments_lexer": "ipython3",
   "nbconvert_exporter": "python",
   "file_extension": ".py"
  },
  "kernelspec": {
   "name": "python3",
   "display_name": "Python 3.9.6 64-bit"
  },
  "interpreter": {
   "hash": "767d51c1340bd893661ea55ea3124f6de3c7a262a8b4abca0554b478b1e2ff90"
  }
 },
 "nbformat": 4,
 "nbformat_minor": 2
}