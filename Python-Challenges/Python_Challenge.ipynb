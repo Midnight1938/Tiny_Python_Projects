{
 "cells": [
  {
   "cell_type": "markdown",
   "source": [
    "# [Python Challenge](http://www.pythonchallenge.com)\n",
    "\n",
    "The first programming riddle on the net\n",
    "\n",
    "There are currently 33 levels."
   ],
   "metadata": {}
  },
  {
   "cell_type": "code",
   "execution_count": 51,
   "source": [
    "print(2**38)"
   ],
   "outputs": [
    {
     "output_type": "stream",
     "name": "stdout",
     "text": [
      "274877906944\n"
     ]
    }
   ],
   "metadata": {}
  },
  {
   "cell_type": "markdown",
   "source": [
    "## Challenge 1\n",
    "\n",
    "Post translator"
   ],
   "metadata": {}
  },
  {
   "cell_type": "code",
   "execution_count": 52,
   "source": [
    "raw_file = \"\"\"g fmnc wms bgblr rpylqjyrc gr zw fylb.\n",
    "rfyrq ufyr amknsrcpq ypc dmp. \n",
    "bmgle gr gl zw fylb gq glcddgagclr ylb rfyr'q ufw rfgq rcvr gq qm jmle.\n",
    "sqgle qrpgle.kyicrpylq() gq pcamkkclbcb. lmu ynnjw ml rfc spj.\"\"\"\n",
    "\n",
    "def Explaining():\n",
    "    print(f\"{ord('A')}\")\n",
    "    print(f\"{chr(65)}\")\n",
    "    print(f\"{chr(ord('k')+2)}\")\n",
    "    print(f\"{(ord('z') + 2) - ord('a')}\")           #* To make it circular, calculate it's distance from 'a'\n",
    "    print(f\"{((ord('z') + 2) - ord('a')) % 26}\")    #* if it is larger than 26, go back to the beginning\n",
    "    print(f\"{chr(((ord('z') + 2) - ord('a')) % 26 + ord('a'))}\\n\")    #* then add that difference to 'a'\n",
    "\n",
    "def answer():\n",
    "    result = \"\"\n",
    "    for i in raw_file:\n",
    "        if i >= 'a' and i <= 'z':\n",
    "            result += chr(((ord(i) + 2) - ord('a')) % 26 + ord('a'))\n",
    "        else:\n",
    "            result += i\n",
    "\n",
    "    print(result)\n",
    "\n",
    "#answer()\n",
    "\n",
    "def Post_Translate(raw):\n",
    "    table = str.maketrans(\"abcdefghijklmnopqrstuvwxyz\", \"cdefghijklmnopqrstuvwxyzab\")\n",
    "#    print(''.join([chr(((ord(s) + 2) - ord('a')) % 26 + ord('a')) if s >= 'a' and s <= 'z' else s for s in raw_file]))\n",
    "    return raw.translate(table)\n",
    "\n",
    "Explaining()\n",
    "#Post_Translate(raw_file)\n",
    "Post_Translate(\"map\")"
   ],
   "outputs": [
    {
     "output_type": "stream",
     "name": "stdout",
     "text": [
      "65\n",
      "A\n",
      "m\n",
      "27\n",
      "1\n",
      "b\n",
      "\n"
     ]
    },
    {
     "output_type": "execute_result",
     "data": {
      "text/plain": [
       "'ocr'"
      ]
     },
     "metadata": {},
     "execution_count": 52
    }
   ],
   "metadata": {}
  },
  {
   "cell_type": "markdown",
   "source": [
    "## Challenge 2\n",
    "`re.findall(\"[A-Za-z]\", data)` just filters all the letters"
   ],
   "metadata": {}
  },
  {
   "cell_type": "code",
   "execution_count": 53,
   "source": [
    "import re\n",
    "\n",
    "data = open('lvl2.txt').read()\n",
    "\n",
    "count = {}\n",
    "for i in data:\n",
    "    count[i] = count.get(i,0)+1\n",
    "count # The rare characters only have 1 occurrence: t, i, u, e, l, y, q, a.\n",
    "\n",
    "\"\".join(re.findall(\"[A-Za-z]\", data))"
   ],
   "outputs": [
    {
     "output_type": "execute_result",
     "data": {
      "text/plain": [
       "'equality'"
      ]
     },
     "metadata": {},
     "execution_count": 53
    }
   ],
   "metadata": {}
  },
  {
   "cell_type": "markdown",
   "source": [
    "## Challenge 3\n",
    "The pattern can be described as [^A-Z]+[A-Z]{3}([a-z])[A-Z]{3}[^A-Z]+. Here's a break down of the pattern:\n",
    "\n",
    "- `[a-z]`: 1 lower case letter\n",
    "- `[A-Z]`: 1 upper case letter\n",
    "- `[A-Z]{3}`: 3 consecutive upper case letters\n",
    "- `[A-Z]{3}[a-z][A-Z]{3}`: 3 upper case letters + 1 lower case letter + 3 upper case letters\n",
    "- `[^A-Z]`: any character BUT an upper case letter\n",
    "- `[^A-Z]+`: at least one such character\n",
    "- `[^A-Z]+[A-Z]{3}[a-z][A-Z]{3}[^A-Z]+`: something else before and after our patter(AAAbCCC) so there's no more than 3 consecutive upper case letters on each side\n",
    "- `[^A-Z]+[A-Z]{3}([a-z])[A-Z]{3}[^A-Z]+`: ...and we only care about the lower case\n"
   ],
   "metadata": {}
  },
  {
   "cell_type": "code",
   "execution_count": 54,
   "source": [
    "import re\n",
    "data = open('lvl3.txt').read()\n",
    "\n",
    "#re.findall(\"[^A-Z]+[A-Z]{3}([a-z])[A-Z]{3}[^A-Z]+\", data)\n",
    "\"\".join(re.findall(\"[^A-Z]+[A-Z]{3}([a-z])[A-Z]{3}[^A-Z]+\", data))"
   ],
   "outputs": [
    {
     "output_type": "execute_result",
     "data": {
      "text/plain": [
       "'linkedlist'"
      ]
     },
     "metadata": {},
     "execution_count": 54
    }
   ],
   "metadata": {}
  },
  {
   "cell_type": "markdown",
   "source": [
    "## Challenge 4\n",
    "we just did what we did manually"
   ],
   "metadata": {}
  },
  {
   "cell_type": "code",
   "execution_count": 55,
   "source": [
    "import urllib.request, re\n",
    "\n",
    "def get_source(url):\n",
    "    with urllib.request.urlopen(url) as response:\n",
    "        html = response.read()\n",
    "    return html\n",
    "\n",
    "def print_source(url):\n",
    "    print(get_source(url).decode())\n"
   ],
   "outputs": [],
   "metadata": {}
  },
  {
   "cell_type": "code",
   "execution_count": 56,
   "source": [
    "import urllib.request, re\n",
    "\n",
    "nothing = \"12345\"\n",
    "while True:\n",
    "    source = (urllib.request.urlopen(\"http://www.pythonchallenge.com/pc/def/linkedlist.php?nothing={0}\").read()).format(nothing)\n",
    "    try:\n",
    "        nothing = re.findall(b\"and the next nothing is ([0-9]+)\", source)[0].decode()\n",
    "    except:\n",
    "        if source == b\"Yes. Divide by two and keep going.\":\n",
    "            nothing = int(nothing)//2\n",
    "        else:\n",
    "            print(source)\n",
    "            break"
   ],
   "outputs": [
    {
     "output_type": "stream",
     "name": "stdout",
     "text": [
      "b'peak.html'\n"
     ]
    }
   ],
   "metadata": {}
  },
  {
   "cell_type": "markdown",
   "source": [
    "## Challenge 5\n",
    "\n",
    "peakhell, peakhell... sounds like... \"pickle\"(which is Python's object serialization module)\n",
    "\n",
    "OK! So data is a list of lists of tuples... It does not look like a banner(the file name), but more like the result of a simple string compression: convert the repetitive characters to tuples of (character, number of appearance). This level is all about serialization and compression, isn't it. Let's unravel the string:"
   ],
   "metadata": {}
  },
  {
   "cell_type": "code",
   "execution_count": 57,
   "source": [
    "import pickle\n",
    "from urllib.request import urlopen\n",
    "\n",
    "def pickle_finder():\n",
    "    global banner\n",
    "    banner = pickle.loads(urlopen(\"http://www.pythonchallenge.com/pc/def/banner.p\").read())\n",
    "    return banner\n",
    "\n",
    "def row_string():\n",
    "    for line in banner:\n",
    "        print(\"\".join([k * v for k, v in line]))\n",
    "\n",
    "#pickle_finder()\n",
    "row_string()"
   ],
   "outputs": [
    {
     "output_type": "stream",
     "name": "stdout",
     "text": [
      "                                                                                               \n",
      "              #####                                                                      ##### \n",
      "               ####                                                                       #### \n",
      "               ####                                                                       #### \n",
      "               ####                                                                       #### \n",
      "               ####                                                                       #### \n",
      "               ####                                                                       #### \n",
      "               ####                                                                       #### \n",
      "               ####                                                                       #### \n",
      "      ###      ####   ###         ###       #####   ###    #####   ###          ###       #### \n",
      "   ###   ##    #### #######     ##  ###      #### #######   #### #######     ###  ###     #### \n",
      "  ###     ###  #####    ####   ###   ####    #####    ####  #####    ####   ###     ###   #### \n",
      " ###           ####     ####   ###    ###    ####     ####  ####     ####  ###      ####  #### \n",
      " ###           ####     ####          ###    ####     ####  ####     ####  ###       ###  #### \n",
      "####           ####     ####     ##   ###    ####     ####  ####     #### ####       ###  #### \n",
      "####           ####     ####   ##########    ####     ####  ####     #### ##############  #### \n",
      "####           ####     ####  ###    ####    ####     ####  ####     #### ####            #### \n",
      "####           ####     #### ####     ###    ####     ####  ####     #### ####            #### \n",
      " ###           ####     #### ####     ###    ####     ####  ####     ####  ###            #### \n",
      "  ###      ##  ####     ####  ###    ####    ####     ####  ####     ####   ###      ##   #### \n",
      "   ###    ##   ####     ####   ###########   ####     ####  ####     ####    ###    ##    #### \n",
      "      ###     ######    #####    ##    #### ######    ###########    #####      ###      ######\n",
      "                                                                                               \n"
     ]
    }
   ],
   "metadata": {}
  },
  {
   "cell_type": "markdown",
   "source": [
    "## Challenge 6\n",
    "Ok... the image was about \"zip\", not \"pants\" or anything under it...\n",
    "\n",
    "Replace html with zip: http://www.pythonchallenge.com/pc/def/channel.zip\n",
    "\n",
    "Unzip it. In the readme.txt:\n",
    "```\n",
    "welcome to my zipped list.\n",
    "\n",
    "hint1: start from 90052\n",
    "hint2: answer is inside the zip\n",
    "```\n",
    "It turns out that zip file may contain some comments, and they can be accessed by:\n",
    "\n",
    "    ZipFile.comment: comment associated with the ZIP file.\n",
    "    ZipInfo.comment: comment for the individual archive member."
   ],
   "metadata": {}
  },
  {
   "cell_type": "code",
   "execution_count": 58,
   "source": [
    "import zipfile, re\n",
    "\n",
    "def reading_zip_comments():\n",
    "    f = zipfile.ZipFile('channel.zip')\n",
    "    num = '90052'\n",
    "    comments = []\n",
    "    \n",
    "    while True:\n",
    "        content = f.read(num+\".txt\").decode(\"utf-8\")\n",
    "        comments.append(f.getinfo(num + \".txt\").comment.decode(\"utf-8\"))\n",
    "        content\n",
    "        match = re.search(\"Next nothing is (\\d+)\",content)\n",
    "        if match == None:\n",
    "            break\n",
    "        num = match.group(1)\n",
    "\n",
    "    print(\"\".join(comments))\n",
    "\n",
    "reading_zip_comments()"
   ],
   "outputs": [
    {
     "output_type": "stream",
     "name": "stdout",
     "text": [
      "****************************************************************\n",
      "****************************************************************\n",
      "**                                                            **\n",
      "**   OO    OO    XX      YYYY    GG    GG  EEEEEE NN      NN  **\n",
      "**   OO    OO  XXXXXX   YYYYYY   GG   GG   EEEEEE  NN    NN   **\n",
      "**   OO    OO XXX  XXX YYY   YY  GG GG     EE       NN  NN    **\n",
      "**   OOOOOOOO XX    XX YY        GGG       EEEEE     NNNN     **\n",
      "**   OOOOOOOO XX    XX YY        GGG       EEEEE      NN      **\n",
      "**   OO    OO XXX  XXX YYY   YY  GG GG     EE         NN      **\n",
      "**   OO    OO  XXXXXX   YYYYYY   GG   GG   EEEEEE     NN      **\n",
      "**   OO    OO    XX      YYYY    GG    GG  EEEEEE     NN      **\n",
      "**                                                            **\n",
      "****************************************************************\n",
      " **************************************************************\n",
      "\n"
     ]
    }
   ],
   "metadata": {}
  },
  {
   "cell_type": "markdown",
   "source": [
    "## Challenge 7\n",
    "\n",
    "Notice that at the end of the array there are some noises: pixels that are not grey scale, which have the same value for R, G, and B. We can remove those pixels.\n",
    "And since RGB is using a positive number in `[0, 255]` for each color, we can assume it represents a ASCII character.\n",
    "We were right, but it is not over... Do it again on the numbers."
   ],
   "metadata": {}
  },
  {
   "cell_type": "code",
   "execution_count": 59,
   "source": [
    "import requests\n",
    "from PIL import Image\n",
    "from io import BytesIO\n",
    "\n",
    "img = Image.open(BytesIO(requests.get('http://www.pythonchallenge.com/pc/def/oxygen.png').content))\n",
    "\n",
    "row = [img.getpixel((x, img.height / 2)) for x in range(img.width)] # To get the grey scale, we can take the middle row of the pixels\n",
    "\n",
    "ords = [r for r, g, b, a in row[::7] if r == g == b]\n",
    "Valuus = \"\".join(map(chr,ords)) #* mapping the red values to letters\n",
    "\n",
    "nums = re.findall(\"\\d+\", \"\".join(map(chr, ords)))\n",
    "\n",
    "print(f\"\"\"Image width and height is {img.width}, {img.height}\n",
    "Pixel value for first thing {img.getpixel((0,0))}\n",
    "\n",
    "The row values are: {row[::7]}\n",
    "\n",
    "Ord is {ords}\n",
    "\n",
    "The r vals gives: {Valuus}\n",
    "\n",
    "Then nums from the r vals found are {nums}\n",
    "{\"\".join(map(chr, map(int, nums)))}\n",
    "\"\"\")\n"
   ],
   "outputs": [
    {
     "output_type": "stream",
     "name": "stdout",
     "text": [
      "Image width and height is 629, 95\n",
      "Pixel value for first thing (79, 92, 23, 255)\n",
      "\n",
      "The row values are: [(115, 115, 115, 255), (109, 109, 109, 255), (97, 97, 97, 255), (114, 114, 114, 255), (116, 116, 116, 255), (32, 32, 32, 255), (103, 103, 103, 255), (117, 117, 117, 255), (121, 121, 121, 255), (44, 44, 44, 255), (32, 32, 32, 255), (121, 121, 121, 255), (111, 111, 111, 255), (117, 117, 117, 255), (32, 32, 32, 255), (109, 109, 109, 255), (97, 97, 97, 255), (100, 100, 100, 255), (101, 101, 101, 255), (32, 32, 32, 255), (105, 105, 105, 255), (116, 116, 116, 255), (46, 46, 46, 255), (32, 32, 32, 255), (116, 116, 116, 255), (104, 104, 104, 255), (101, 101, 101, 255), (32, 32, 32, 255), (110, 110, 110, 255), (101, 101, 101, 255), (120, 120, 120, 255), (116, 116, 116, 255), (32, 32, 32, 255), (108, 108, 108, 255), (101, 101, 101, 255), (118, 118, 118, 255), (101, 101, 101, 255), (108, 108, 108, 255), (32, 32, 32, 255), (105, 105, 105, 255), (115, 115, 115, 255), (32, 32, 32, 255), (91, 91, 91, 255), (49, 49, 49, 255), (48, 48, 48, 255), (53, 53, 53, 255), (44, 44, 44, 255), (32, 32, 32, 255), (49, 49, 49, 255), (49, 49, 49, 255), (48, 48, 48, 255), (44, 44, 44, 255), (32, 32, 32, 255), (49, 49, 49, 255), (49, 49, 49, 255), (54, 54, 54, 255), (44, 44, 44, 255), (32, 32, 32, 255), (49, 49, 49, 255), (48, 48, 48, 255), (49, 49, 49, 255), (44, 44, 44, 255), (32, 32, 32, 255), (49, 49, 49, 255), (48, 48, 48, 255), (51, 51, 51, 255), (44, 44, 44, 255), (32, 32, 32, 255), (49, 49, 49, 255), (49, 49, 49, 255), (52, 52, 52, 255), (44, 44, 44, 255), (32, 32, 32, 255), (49, 49, 49, 255), (48, 48, 48, 255), (53, 53, 53, 255), (44, 44, 44, 255), (32, 32, 32, 255), (49, 49, 49, 255), (49, 49, 49, 255), (54, 54, 54, 255), (44, 44, 44, 255), (32, 32, 32, 255), (49, 49, 49, 255), (50, 50, 50, 255), (49, 49, 49, 255), (93, 93, 93, 255), (112, 110, 69, 255), (101, 92, 51, 255), (95, 83, 45, 255)]\n",
      "\n",
      "Ord is [115, 109, 97, 114, 116, 32, 103, 117, 121, 44, 32, 121, 111, 117, 32, 109, 97, 100, 101, 32, 105, 116, 46, 32, 116, 104, 101, 32, 110, 101, 120, 116, 32, 108, 101, 118, 101, 108, 32, 105, 115, 32, 91, 49, 48, 53, 44, 32, 49, 49, 48, 44, 32, 49, 49, 54, 44, 32, 49, 48, 49, 44, 32, 49, 48, 51, 44, 32, 49, 49, 52, 44, 32, 49, 48, 53, 44, 32, 49, 49, 54, 44, 32, 49, 50, 49, 93]\n",
      "\n",
      "The r vals gives: smart guy, you made it. the next level is [105, 110, 116, 101, 103, 114, 105, 116, 121]\n",
      "\n",
      "Then nums from the r vals found are ['105', '110', '116', '101', '103', '114', '105', '116', '121']\n",
      "integrity\n",
      "\n"
     ]
    }
   ],
   "metadata": {}
  },
  {
   "cell_type": "markdown",
   "source": [
    "### Alternative\n",
    "The pixels are stored as `[r, g, b, a, r, g, b, a...]`, if the pixel is gray, rgb should be equivalent. Another tricky part is the width of each block is 7px(correspond to the number of level?) so the step of the range is `4 * 7`."
   ],
   "metadata": {}
  },
  {
   "cell_type": "code",
   "execution_count": 60,
   "source": [
    "from urllib.request import urlopen\n",
    "import png, re\n",
    "\n",
    "response = urlopen(\"http://www.pythonchallenge.com/pc/def/oxygen.png\")\n",
    "\n",
    "(w, h, rgba, dummy) = png.Reader(response).read()\n",
    "\n",
    "it = list(rgba)\n",
    "mid = int(h / 2)\n",
    "l = len(it[mid])\n",
    "res = [chr(it[mid][i]) for i in range(0, l, 4*7) if it[mid][i] == it[mid][i + 1] == it[mid][i + 2]]\n",
    "\n",
    "print(\"\".join(res))\n",
    "print(\"\".join(map(chr, map(int, re.findall(\"\\d+\", \"\".join(res))))))"
   ],
   "outputs": [
    {
     "output_type": "stream",
     "name": "stdout",
     "text": [
      "smart guy, you made it. the next level is [105, 110, 116, 101, 103, 114, 105, 116, 121]\n",
      "integrity\n"
     ]
    }
   ],
   "metadata": {}
  }
 ],
 "metadata": {
  "orig_nbformat": 4,
  "language_info": {
   "name": "python",
   "version": "3.9.5",
   "mimetype": "text/x-python",
   "codemirror_mode": {
    "name": "ipython",
    "version": 3
   },
   "pygments_lexer": "ipython3",
   "nbconvert_exporter": "python",
   "file_extension": ".py"
  },
  "kernelspec": {
   "name": "python3",
   "display_name": "Python 3.9.5 64-bit ('base': conda)"
  },
  "interpreter": {
   "hash": "6067067af5eaccabe033470a9de4d92e82ccb2198baf251634a5412f852a8517"
  }
 },
 "nbformat": 4,
 "nbformat_minor": 2
}